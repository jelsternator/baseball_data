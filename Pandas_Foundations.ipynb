{
 "cells": [
  {
   "cell_type": "markdown",
   "metadata": {},
   "source": [
    "# pandas Foundations:\n",
    "    (https://campus.datacamp.com/courses/pandas-foundations/data-ingestion-inspection?ex=1)"
   ]
  },
  {
   "cell_type": "code",
   "execution_count": 1,
   "metadata": {
    "collapsed": true
   },
   "outputs": [],
   "source": [
    "import pandas as pd"
   ]
  },
  {
   "cell_type": "markdown",
   "metadata": {},
   "source": [
    "## DB.shape (column, row)\n",
    "DB.columns (gives names of columns)\n",
    "\n",
    "DB.index (Datetime Index)\n",
    "\n",
    "can be sliced like numpy arrays]\n",
    "\n",
    "DB.iloc[:5,:]\n",
    "\n",
    "DB.iloc[-5,:]\n",
    "\n",
    "DB.head(x) returns first x rows\n",
    "\n",
    "DB.tail(x) returns last x rows\n",
    "\n",
    "DB.info\n",
    "\n",
    "Series-single column of dataframe\n",
    "    - has own head method, forms numpy array\n",
    "\n",
    "Series: numpy array- 1D labeled numpy array\n",
    "DF: 2D labeled array whos columns are series"
   ]
  }
 ],
 "metadata": {
  "kernelspec": {
   "display_name": "Python 3",
   "language": "python",
   "name": "python3"
  },
  "language_info": {
   "codemirror_mode": {
    "name": "ipython",
    "version": 3
   },
   "file_extension": ".py",
   "mimetype": "text/x-python",
   "name": "python",
   "nbconvert_exporter": "python",
   "pygments_lexer": "ipython3",
   "version": "3.6.1"
  }
 },
 "nbformat": 4,
 "nbformat_minor": 2
}
