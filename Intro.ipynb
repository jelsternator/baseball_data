{
 "cells": [
  {
   "cell_type": "markdown",
   "metadata": {},
   "source": [
    "# Intro to Python for Data Science\n",
    "(https://campus.datacamp.com/courses/intro-to-python-for-data-science)"
   ]
  },
  {
   "cell_type": "markdown",
   "metadata": {},
   "source": [
    "## 1- Python Basics"
   ]
  },
  {
   "cell_type": "markdown",
   "metadata": {},
   "source": [
    "Vars/Types\n",
    "\n",
    "type(x) tells you about it\n",
    "float, int, etc...\n",
    "\n",
    "int: interger w/o fractional part\n",
    "\n",
    "float: number w/ interger and fractional point\n",
    "\n",
    "string (str): represents text- can use single or double '', \"\"\n",
    "\n",
    "boolean (bool): true or false\n",
    "\n",
    "sum function acts differently for diff types:\n",
    "    a = 1, b = 2\n",
    "    >a + b = 3\n",
    "    \n",
    "    a = \"ab\", b = \"cd\"\n",
    "    >a + b = \"abcd\"\n"
   ]
  },
  {
   "cell_type": "markdown",
   "metadata": {},
   "source": [
    "= means assignment, not is equal to"
   ]
  },
  {
   "cell_type": "code",
   "execution_count": 7,
   "metadata": {},
   "outputs": [
    {
     "name": "stdout",
     "output_type": "stream",
     "text": [
      "3string\n"
     ]
    },
    {
     "data": {
      "text/plain": [
       "3.0"
      ]
     },
     "execution_count": 7,
     "metadata": {},
     "output_type": "execute_result"
    }
   ],
   "source": [
    "#cannot add strings and floats- need to convert\n",
    "rand_int = 3\n",
    "rand_str = \"string\"\n",
    "#rand_int + rand_str >> Error\n",
    "str_rand_int = str(rand_int)\n",
    "print(str_rand_int + rand_str)\n",
    "float(rand_int)"
   ]
  },
  {
   "cell_type": "markdown",
   "metadata": {},
   "source": [
    "## Ch 2 -Python Lists"
   ]
  },
  {
   "cell_type": "markdown",
   "metadata": {},
   "source": [
    "Lists have [] etc..\n",
    "subsetting lists: index\n",
    "    list[x]\n",
    "    [-x] means from end\n",
    "    0   1   2   3   4   5   6\n",
    "    -7 -6  -5  -4  -3  -2  -1\n",
    "    \n",
    "splicing: list[x:y]\n",
    "    list[:y] is all to y, [x:] is all from x\n",
    "    splicing is from x until (but not including) y"
   ]
  },
  {
   "cell_type": "markdown",
   "metadata": {},
   "source": [
    "### List manipulation:\n",
    "    updating list: list[x] = y\n",
    "    or list[0:2] = x,y\n",
    "    list + [x, y]\n",
    "    del(list[3])\n",
    "        list[4:] move up one spot\n",
    "        the number just is a reference to a spot on the list\n",
    "        \n",
    "    x = [\"a\", \"b\", \"c\"]\n",
    "    y = x\n",
    "    y[1] = \"z\"\n",
    "    y >> ['a', 'z', 'c']\n",
    "    x >> ['a', 'z', 'c']\n",
    "    \n",
    "    x = [\"a\", \"b\", \"c\"]\n",
    "    y = list(x)\n",
    "    y = x[:]\n",
    "    y[1] = \"z\"\n",
    "    x >> ['a', 'b' 'c'] #not affected\n",
    "    in this case y is new var, not a pointer to x\n",
    "    \n",
    "    "
   ]
  },
  {
   "cell_type": "markdown",
   "metadata": {},
   "source": [
    "### Functions\n",
    "round(), max(), etc...\n",
    "#### Built in functions/methods\n",
    "Everything is an object\n",
    "objects come with methods:\n",
    "    -method: 'function that belongs to python object'\n",
    "\n",
    "#### Packages:\n",
    "Package: directory of python script (module)\n",
    "    use pip (terminal python3 get-pip.py)\n",
    "    import x (\"as y\" optional)\n"
   ]
  },
  {
   "cell_type": "code",
   "execution_count": null,
   "metadata": {
    "collapsed": true
   },
   "outputs": [],
   "source": [
    "## Numpy (Numeric Python)\n",
    "Can perform calculations over arrays\n",
    "alternative to lists - Element wise calculations\n",
    "    >np_sample1 = np.array(list1)\n",
    "    np_sample2 = np.array(list2)\n",
    "    div = np_sample1/np_sample2\n",
    "assumes all single type\n",
    "    list1 + list2 =/= np_sample1 + np_sample2\n",
    "indexing works\n",
    "can subset (ie div > 0)\n",
    "\n",
    "to filter:\n",
    "    constraint = array < 0\n",
    "    array[constraint]\n",
    "\n",
    "Type Coercion: when adding arrays in numpy, will force type to other type\n",
    "\n",
    "## 2d Numpy Arrays\n",
    "    ie:\n",
    "        2D = height/weight\n",
    "        row in array \n",
    "    can subset select as well:\n",
    "                0   1     2    3\n",
    "        array([ 1  , 2  ,  3 , 4  ], 0\n",
    "              [ \"a\", \"b\", \"c\", \"d\"]) 1\n",
    "        array[0][2] are coords: so would be: '3'\n",
    "            row, column\n",
    "        can also do array[:, 1:3] etc...\n",
    "    \n",
    "shape: np.array().shape returns (x,y):\n",
    "        where x is rows, and y is columns of data\n",
    "can also select data by np_array[x,y]\n",
    "\n",
    "## Basic Statistics\n",
    "can run function with np as well\n",
    "    ie np.mean(data[:,:])\n",
    "    "
   ]
  }
 ],
 "metadata": {
  "kernelspec": {
   "display_name": "Python 3",
   "language": "python",
   "name": "python3"
  },
  "language_info": {
   "codemirror_mode": {
    "name": "ipython",
    "version": 3
   },
   "file_extension": ".py",
   "mimetype": "text/x-python",
   "name": "python",
   "nbconvert_exporter": "python",
   "pygments_lexer": "ipython3",
   "version": "3.6.1"
  }
 },
 "nbformat": 4,
 "nbformat_minor": 2
}
