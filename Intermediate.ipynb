{
 "cells": [
  {
   "cell_type": "code",
   "execution_count": 1,
   "metadata": {
    "collapsed": true
   },
   "outputs": [],
   "source": [
    "# Intermediate Python for Data Science\n",
    "#### (https://campus.datacamp.com/courses/intermediate-python-for-data-science/matplotlib?ex=1)\n",
    "## Plots w/ matplotlib\n",
    "### import matplotlib.pylot as plt"
   ]
  },
  {
   "cell_type": "code",
   "execution_count": 3,
   "metadata": {},
   "outputs": [],
   "source": [
    "import matplotlib.pyplot as plt"
   ]
  },
  {
   "cell_type": "code",
   "execution_count": 5,
   "metadata": {},
   "outputs": [
    {
     "data": {
      "image/png": "[encoded data removed]",
      "text/plain": [
       "<matplotlib.figure.Figure at 0x1185b1978>"
      ]
     },
     "metadata": {},
     "output_type": "display_data"
    }
   ],
   "source": [
    "year = [1950, 1970, 1990, 2010]\n",
    "pop = [2.519, 3.62, 5.263, 6.972]\n",
    "plt.plot(year, pop) # x, y axis\n",
    "plt.show()"
   ]
  },
  {
   "cell_type": "code",
   "execution_count": 8,
   "metadata": {},
   "outputs": [
    {
     "data": {
      "image/png": "[encoded data removed]",
      "text/plain": [
       "<matplotlib.figure.Figure at 0x11aa3f7f0>"
      ]
     },
     "metadata": {},
     "output_type": "display_data"
    }
   ],
   "source": [
    "plt.scatter(year, pop)\n",
    "##plt.show()"
   ]
  },
  {
   "cell_type": "markdown",
   "metadata": {},
   "source": [
    "## Plots: \n",
    "### can change axis scale: plt.xscale('log')"
   ]
  },
  {
   "cell_type": "markdown",
   "metadata": {},
   "source": [
    "## Histograms (freq of occurances in range(bin)): \n",
    "### Explore dataset, idea about distribution\n",
    "### plt.hist (can see help)\n",
    "### x is list of values to build histogra\n",
    "### bins = bins it should be divided into (set to 10 by default)\n",
    "plt.clf() cleans the plot, so you can add new data"
   ]
  },
  {
   "cell_type": "markdown",
   "metadata": {},
   "source": [
    "## Customization\n",
    "Many options for data vis (and customization for each)\n",
    "label axist. plt.xlabel('x label'), plt.ylabel('y label')\n",
    "\n",
    "plt.title('Title of Plot')\n",
    "\n",
    "plt.show() after titling axis\n",
    "\n",
    "plt.yticks([0,2,4,6,8,10], ['0', '2B', '4B'...]) etc..\n",
    "- this indicates where ticks should be, and optional alias\n",
    "\n",
    "Can also add more data:\n",
    "    - year = [1800, 1850, 1900] + year\n",
    "    - pop = [1.0, 1.26, 1.65] + pop\n",
    "\n",
    "For scatter, s = size (ie size of data points)\n",
    "    - colors: c = [list of colors]\n",
    "    - alpha = opacity (0-1)\n",
    "    \n",
    "Labels: can add to specific points by:\n",
    "        - plt.text(x_coord, y_coord, \"Label\")\n",
    "        - plt.grid(True)"
   ]
  },
  {
   "cell_type": "markdown",
   "metadata": {},
   "source": [
    "## Dictionaries\n",
    "keys have to be unique, immutable (cannot be changed after creation)\n",
    "-cannot use a list in creation because list is mutable:\n",
    "    ie: dict = {[\"just\", \"testing\"]: list}\n",
    "        >> ERROR: unhashable type: list\n",
    "\n",
    "\n",
    "can search \"key\" in dict, can update by dict[key] = newval\n",
    "    \n",
    "    -deleting: del(dict.key())\n",
    "\n",
    "dictionary is indexed by unique keys, not by order (inherently unordered)\n",
    "\n",
    "possible to chain [] in searches. ie dict[subdict][sd key]"
   ]
  },
  {
   "cell_type": "markdown",
   "metadata": {},
   "source": [
    "## Pandas\n",
    "w/ tabular table (row/column)\n",
    "Dataset structures.\n",
    "2d Numpy Array: only one data type\n",
    "\n",
    "Pandas:\n",
    "    -High Level data manipulation tool built on Numpy\n",
    "    -Dataframe: row labels, column(s) + labels (can be diff types)\n",
    "\n",
    "    from dict: \n",
    "    import pandas as pd ---> pd.datafarame\n",
    "    easier with read_csv function\n",
    "    \n",
    "    -eg: data = pd.read_csv(\"file.csv\", index_col = 0)\n",
    "        \n",
    "Indexing and selecting data: [], loc, iloc\n",
    "    \n",
    "    -table[\"column\"]\n",
    "    >> returns pandas series: 1D labelled array\n",
    "        a bunch of series = dataframe\n",
    "        \n",
    "    -table[[\"column\", \"column2\"]]\n",
    "    >> returns dataframe : for x columns for args\n",
    "    \n",
    "    -table[1:4] retursn a slice of data\n",
    "    \n",
    "    -[ ] have limited functionally. ideally use 2D numpy, \n",
    "    - use loc (label-based)\n",
    "    - iloc (interger position-based)\n",
    "    \n",
    "    -table[\"label\"] or table[[\"label\"]] \n",
    "    \n",
    "    intersection: \n",
    "        -table.loc[[\"col1\", \"col2\"], [\"lab1\", \"lab2\"]]\n",
    "        -can also use [:]\n",
    "        \n",
    "        -iloc uses interger based position rather than label names"
   ]
  },
  {
   "cell_type": "markdown",
   "metadata": {},
   "source": [
    "## Comparison Operators (Logical/Control flow/Filtering)\n",
    "    - eg: x < y --> returns boolean\n",
    "    - eg: \"str1\" < \"str2\" --> error: can do string/float, but use same type otherwise\n",
    "    - eg: array > x\n",
    "\n",
    "### Boolean Operators- and/or/not\n",
    "\n",
    "w/numpy:\n",
    "    - array equivalents are: (np.)logical_and()/or()/not()\n",
    "        -> returns array\n",
    "    - to get vals:\n",
    "        ->array[logical_and(array > x, array <y)]"
   ]
  },
  {
   "cell_type": "markdown",
   "metadata": {},
   "source": [
    "### if/elif/else\n",
    "- conditional statements allow code to operate differently\n",
    "- if condition:\n",
    "    conditional\n",
    "  elif condition2:\n",
    "    conditional2\n",
    "  else:\n",
    "    else conditional"
   ]
  },
  {
   "cell_type": "markdown",
   "metadata": {},
   "source": [
    "### Filtering Pandas DataFrame:\n",
    "w/ brics data:\n",
    "    select countries w/ area > 8 M km2:\n",
    "    1. select area column (want series, not dataframe)\n",
    "    2. do comparison\n",
    "    3. use result to select countries\n",
    "    \n",
    "brics[\"area\"] # get values in series (float)\n",
    "brics[\"area\"] > 8 (can also use no.logical_and(brics[...]))\n",
    "    >> series w/ boolean vals\n",
    "is_huge = brics[\"area\"] > 8\n",
    "brics[is_huge]\n",
    "    > returns requested data\n",
    "    \n",
    "### While statements:\n",
    "repeated if statement:\n",
    "    -repeating condition until req met\n",
    "eg: error = 50\n",
    "while error > 1:\n",
    "    error = error/4\n",
    "    print(error)\n",
    "\n",
    "for loop:\n",
    "    for i in list...\n",
    "\n",
    "enumerate(keeps index)\n",
    "eg: for index, height in enumerate(fam):\n",
    "        print(index, height) >> i, fam[i]\n",
    "\n",
    "looping data structures\n",
    "numpy arrays:\n",
    "    for val in bmi:\n",
    "        print(val)\n",
    "\n",
    "for 2d array:\n",
    "    for val in np.nditer(meas):\n",
    "        print(vals)\n",
    "    \n",
    "dictionary: for v in dict.items()...\n",
    "    \n",
    "###Looping in pandas:\n",
    "for x in brics:\n",
    "    print(x)\n",
    "    >>column names\n",
    "\n",
    "have to explicitly state iter over rows\n",
    "\n",
    "for lab, row in brics.iterrows():\n",
    "    print(lab)\n",
    "    print(row)\n",
    "    print(lab + \": \" + row[\"capital\"])\n",
    "\n",
    "# adding columns to pandas database\n",
    "for lab,row in brics.iterrows():\n",
    "    brics.loc[lab, \"name_length\"] = len(row[\"country\"])\n",
    "print(brics) #testing\n",
    "\n",
    "#better way\n",
    "brics[\"name_length\"] = brics[\"country\"].apply(len)"
   ]
  },
  {
   "cell_type": "markdown",
   "metadata": {},
   "source": [
    "## Case Study- Hacker Stats:\n",
    "### Random Numbers\n"
   ]
  },
  {
   "cell_type": "code",
   "execution_count": null,
   "metadata": {
    "collapsed": true
   },
   "outputs": [],
   "source": [
    "solving problems:\n",
    "    1. analytical\n",
    "    2. simulate process\n",
    "        -hacker statistics!\n",
    "\n",
    "random function: np.random.rand() #psuedorandom- reproducible (seed)\n",
    "    -np.random.randint(x,y) produces random int between x and y\n",
    "    \n",
    "Random Walk (succession of rand steps):\n",
    "    - step = step + action #append to list\n",
    "    \n",
    "Distribution:\n",
    "    -simulate walk 10000 times for distribution (and chance)\n",
    "    \n",
    "for x in range(100): # can change\n",
    "    tails = [0]\n",
    "    for x in range(10):\n",
    "        coin = np.random.randint(0,2)\n",
    "        tails.append(tails[x] + coin)\n",
    "    final_tails.append(tails[-1])\n",
    "print(final_tails) #list -can visualize the distribution\n",
    "\n",
    "plt.hist(final_tails, bins = 10)\n",
    "plt.show"
   ]
  }
 ],
 "metadata": {
  "kernelspec": {
   "display_name": "Python 3",
   "language": "python",
   "name": "python3"
  },
  "language_info": {
   "codemirror_mode": {
    "name": "ipython",
    "version": 3
   },
   "file_extension": ".py",
   "mimetype": "text/x-python",
   "name": "python",
   "nbconvert_exporter": "python",
   "pygments_lexer": "ipython3",
   "version": "3.6.1"
  }
 },
 "nbformat": 4,
 "nbformat_minor": 2
}
